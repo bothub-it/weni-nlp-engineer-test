{
 "nbformat": 4,
 "nbformat_minor": 0,
 "metadata": {
  "colab": {
   "name": "nlp-test.ipynb",
   "provenance": [],
   "collapsed_sections": []
  },
  "kernelspec": {
   "name": "python3",
   "display_name": "Python 3"
  }
 },
 "cells": [
  {
   "cell_type": "markdown",
   "metadata": {
    "id": "5JWXZ-E26KOf",
    "colab_type": "text"
   },
   "source": [
    "# NLP Engineer Internship Test\n",
    "\n",
    "## Objective\n",
    "\n",
    "- Make an intent classifier with the dataset provided in the repository in which the imput will be a phrase and the model must correctly classify it in one of the intentions defined in the dataset\n",
    "- The main objective of the test is to assess the candidate's ability to solve problems and demonstrate his attempts, hypotheses, solutions clearly and the ability to analyze data, extract information, suggest conclusions, and support decision-making.\n",
    "\n",
    "### Example interaction with the resulting model\n",
    "Just a demonstrative example to understand the problem, the output can be formatted according to the candidate's preference so that it shows the intention and the confidence that the model returned\n",
    "```\n",
    "example 1:\n",
    "input: como ocorre a transferência de processos para o SEI?\n",
    "output:\n",
    "intent: processos_administrativos\n",
    "confidence: 96.7%\n",
    "\n",
    "example 2:\n",
    "input: quais são os documentos disponíveis?\n",
    "output:\n",
    "intent: documentação\n",
    "confidence: 83.2%\n",
    "```\n",
    "\n",
    "## Information about the datasets\n",
    "\n",
    "The dataset is in the dataset.txt file in the repository, it is in the format:\n",
    "\n",
    "```\n",
    "## intent:intent_name1\n",
    "- sentence1\n",
    "- sentence2\n",
    "...\n",
    "- sentenceN\n",
    "\n",
    "## intent:intent_name2\n",
    "- sentence1\n",
    "- sentence2\n",
    "...\n",
    "- sentenceN\n",
    "\n",
    "...\n",
    "```\n",
    "\n",
    "## Instructions\n",
    "- Put all the code, logic, hypotheses, etc. organized in the nlp_test.pynb jupyter notebook of the repository (i.e. specific actions you would take based on your analysis) and methodology.\n",
    "- Fork this repository\n",
    "- Make your fork private\n",
    "- Give access to the user \"lucasraggi89\" and \"lucasagra\" in your private fork\n",
    "- Make all changes in your fork\n",
    "- Only commits before the deadline will be considered\n",
    "- The deadline is in the 23:59 7 days from when you received this test\n",
    "\n",
    "Tip: it is interesting to put your different approaches and attempts in the notebook to support decision making<br/>\n",
    "Have fun!"
   ]
  },
  {
   "cell_type": "code",
   "metadata": {
    "id": "gn0sWRCSx89T",
    "colab_type": "code",
    "colab": {}
   },
   "source": [
    ""
   ],
   "execution_count": null,
   "outputs": []
  }
 ]
}